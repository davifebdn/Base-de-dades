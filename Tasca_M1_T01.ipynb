{
  "nbformat": 4,
  "nbformat_minor": 0,
  "metadata": {
    "colab": {
      "name": "Tasca M1 T01.ipynb",
      "provenance": [],
      "authorship_tag": "ABX9TyNQFtRMxGtqkK8ZkWqED3IE",
      "include_colab_link": true
    },
    "kernelspec": {
      "name": "python3",
      "display_name": "Python 3"
    },
    "language_info": {
      "name": "python"
    }
  },
  "cells": [
    {
      "cell_type": "markdown",
      "metadata": {
        "id": "view-in-github",
        "colab_type": "text"
      },
      "source": [
        "<a href=\"https://colab.research.google.com/github/davifebdn/Base-de-dades/blob/main/Tasca_M1_T01.ipynb\" target=\"_parent\"><img src=\"https://colab.research.google.com/assets/colab-badge.svg\" alt=\"Open In Colab\"/></a>"
      ]
    },
    {
      "cell_type": "markdown",
      "source": [
        "#Tasca M1 T01\n",
        "Exercicis amb MySQL."
      ],
      "metadata": {
        "id": "nExdzyEYyMez"
      }
    },
    {
      "cell_type": "markdown",
      "source": [
        "##Exercici 1\n",
        "\n",
        "A partir dels documents adjunts (estructura i dades), crea una base de dades amb MySQL. Mostra les característiques principals de l'esquema creat i explica les diferents taules i variables que hi ha."
      ],
      "metadata": {
        "id": "EA32OBYuyVB7"
      }
    },
    {
      "cell_type": "markdown",
      "source": [
        "Per treballar amb Google Colab, he vist que recomana instal·lar [SQLalchemy](https://pypi.org/project/SQLAlchemy/1.3.24/). Un cop fet, el podem importar sense problema."
      ],
      "metadata": {
        "id": "9GsvOpIF2eQ9"
      }
    },
    {
      "cell_type": "code",
      "source": [
        "import sqlalchemy"
      ],
      "metadata": {
        "id": "eg6WWgg0yg-l"
      },
      "execution_count": 7,
      "outputs": []
    }
  ]
}