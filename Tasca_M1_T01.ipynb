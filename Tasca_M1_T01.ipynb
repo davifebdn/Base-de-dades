{
  "nbformat": 4,
  "nbformat_minor": 0,
  "metadata": {
    "colab": {
      "provenance": [],
      "authorship_tag": "ABX9TyOvj5+VxQtNCmgQZKk7P1nY",
      "include_colab_link": true
    },
    "kernelspec": {
      "name": "python3",
      "display_name": "Python 3"
    },
    "language_info": {
      "name": "python"
    }
  },
  "cells": [
    {
      "cell_type": "markdown",
      "metadata": {
        "id": "view-in-github",
        "colab_type": "text"
      },
      "source": [
        "<a href=\"https://colab.research.google.com/github/davifebdn/Base-de-dades/blob/main/Tasca_M1_T01.ipynb\" target=\"_parent\"><img src=\"https://colab.research.google.com/assets/colab-badge.svg\" alt=\"Open In Colab\"/></a>"
      ]
    },
    {
      "cell_type": "markdown",
      "source": [
        "#Tasca M1 T01\n",
        "\n",
        "Exercicis amb MySQL."
      ],
      "metadata": {
        "id": "SXIomHVAsoZC"
      }
    },
    {
      "cell_type": "markdown",
      "source": [
        "## Exercici 1\n",
        "\n",
        "A partir dels documents adjunts (estructura i dades), crea una base de dades amb MySQL. Mostra les característiques principals de l'esquema creat i explica les diferents taules i variables que hi ha."
      ],
      "metadata": {
        "id": "ZRJri009szYg"
      }
    },
    {
      "cell_type": "markdown",
      "source": [],
      "metadata": {
        "id": "RO4mXvINuq7s"
      }
    },
    {
      "cell_type": "markdown",
      "source": [
        "## Exercici 2\n",
        "\n",
        "Realitza la següent consulta sobre la base de dades acabada de crear: \n",
        "\n",
        "Has d'obtenir el nom, el país i la data de naixement d'aquelles persones per les quals no consti una data de mort i ordenar les dades de la persona més vella a la persona més jove."
      ],
      "metadata": {
        "id": "t2QeJPnvs-Dy"
      }
    },
    {
      "cell_type": "markdown",
      "source": [
        "## Exercici 3\n",
        "\n",
        "Realitza la següent consulta sobre la base de dades acabada de crear: \n",
        "\n",
        "Has d'obtenir el nom, el país i la data de naixement d'aquelles persones per les quals no consti una data de mort i ordenar les dades de la persona més vella a la persona més jove."
      ],
      "metadata": {
        "id": "ZslV6KU2tELx"
      }
    },
    {
      "cell_type": "markdown",
      "source": [
        "## Exercici 4\n",
        "\n",
        "Realitza la següent consulta sobre la base de dades acabada de crear: \n",
        "\n",
        "Has d'obtenir, per a cada persona, el seu nom i el nombre màxim de rols diferents que ha tingut en una mateixa pel·lícula. \n",
        "\n",
        "Posteriorment, mostra únicament aquelles persones que hagin assumit més d'un rol en una mateixa pel·lícula."
      ],
      "metadata": {
        "id": "kKZ5ePJvtQNL"
      }
    },
    {
      "cell_type": "markdown",
      "source": [
        "## Exercici 5\n",
        "\n",
        "Realitza la següent operació sobre la base de dades acabada de crear: \n",
        "\n",
        "Has de crear un nou gènere anomenat \"Documental\" el qual tingui com a identificador el nombre 69."
      ],
      "metadata": {
        "id": "rgwXXi4TtTMH"
      }
    },
    {
      "cell_type": "markdown",
      "source": [
        "## Exercici 6\n",
        "\n",
        "Fes la següent operació sobre la base de dades acabada de crear:  \n",
        "\n",
        "Elimina la pel·lícula \"La Gran Familia Española\" de la base de dades."
      ],
      "metadata": {
        "id": "Gz3pPanXtags"
      }
    },
    {
      "cell_type": "markdown",
      "source": [
        "## Exercici 7\n",
        "\n",
        "Realitza la següent operació sobre la base de dades acabada de crear: \n",
        "\n",
        "Canvia el gènere de la pel·lícula \"Ocho apellidos catalanes\" perquè consti com a comèdia i no com a romàntica."
      ],
      "metadata": {
        "id": "mZ4qUpHQtnY4"
      }
    }
  ]
}