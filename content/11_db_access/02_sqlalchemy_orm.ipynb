{
  "cells": [
    {
      "cell_type": "markdown",
      "metadata": {
        "id": "m2Plhy4538x0"
      },
      "source": [
        "\n",
        "<a href=\"https://colab.research.google.com/github/aviadr1/learn-advanced-python/blob/master/content/11_db_access/02_sqlalchemy_orm.ipynb\" target=\"_blank\">\n",
        "<img src=\"https://colab.research.google.com/assets/colab-badge.svg\" \n",
        "     title=\"Open this file in Google Colab\" alt=\"Colab\"/>\n",
        "</a>\n"
      ]
    },
    {
      "cell_type": "markdown",
      "metadata": {
        "id": "ztApDOC738x2"
      },
      "source": [
        "# SQLAlchemy\n",
        "> SQLAlchemy is the Python SQL toolkit and Object Relational Mapper that gives application developers the full power and flexibility of SQL.\n",
        "\n",
        "We're going to show how to create a database, add some data and do basic queries.\n",
        "more complex queriex, doing migrations and database admin, are outside the scope of this lesson"
      ]
    },
    {
      "cell_type": "markdown",
      "metadata": {
        "id": "3BMMS2ZD38x5"
      },
      "source": [
        "## Create a new database from scratch\n",
        "Lets create a new database from scratch. we will\n",
        "1. Create classes to define a schema\n",
        "2. Map the scheme to a database\n",
        "3. add objects to the database\n",
        "4. run queries\n",
        "\n",
        "> NOTE: we will use an in-memory database, but running with a file based one or a remote database would be just as easy"
      ]
    },
    {
      "cell_type": "markdown",
      "metadata": {
        "id": "V7ZTorOB38x7"
      },
      "source": [
        "### 1. Create a database session"
      ]
    },
    {
      "cell_type": "code",
      "execution_count": 2,
      "metadata": {
        "id": "tFL7jNGa38x8"
      },
      "outputs": [],
      "source": [
        "from sqlalchemy import create_engine\n",
        "#engine = create_engine('sqlite:///example.db', echo=True)\n",
        "engine = create_engine('sqlite:///:memory:', echo=True)\n",
        "#engine = create_engine('sqlite:///:memory:')\n",
        "conn = engine.connect()\n",
        "\n",
        "from sqlalchemy.orm import sessionmaker\n",
        "Session = sessionmaker(bind=engine)\n",
        "session = Session()"
      ]
    },
    {
      "cell_type": "markdown",
      "metadata": {
        "id": "1fWTi4f438x_"
      },
      "source": [
        "### 2. Helper functions to print SQL queries and SQL results "
      ]
    },
    {
      "cell_type": "code",
      "execution_count": 1,
      "metadata": {
        "id": "pyCfV_q-38yC"
      },
      "outputs": [],
      "source": [
        "from IPython.display import display\n",
        "import pandas as pd\n",
        "import sqlalchemy\n",
        "\n",
        "def sql(query):\n",
        "    print()\n",
        "    print(query)\n",
        "    print()\n",
        "\n",
        "def get_results(query):\n",
        "    global engine\n",
        "    q = query.statement if isinstance(query, sqlalchemy.orm.query.Query) else query\n",
        "    return pd.read_sql(q, engine)\n",
        "\n",
        "def display_results(query):\n",
        "    df = get_results(query)\n",
        "    display(df)\n",
        "    #sql(query)"
      ]
    },
    {
      "cell_type": "markdown",
      "metadata": {
        "id": "8XT9celv38yD"
      },
      "source": [
        "### 3.  creating a schema base"
      ]
    },
    {
      "cell_type": "code",
      "execution_count": null,
      "metadata": {
        "id": "KxUXW7C238yF"
      },
      "outputs": [],
      "source": [
        "from sqlalchemy.ext.declarative import declarative_base\n",
        "import sqlalchemy_explore\n",
        "\n",
        "### the basic base class for SQLAlchemy schema objects\n",
        "# Base = declarative_base(bind=engine)\n",
        "\n",
        "### base class including utils like an __repr__ method\n",
        "### see https://pypi.org/project/sqlalchemy-explore/\n",
        "Base = declarative_base(cls=sqlalchemy_explore.ReflectiveMixin)"
      ]
    },
    {
      "cell_type": "markdown",
      "metadata": {
        "id": "ONxWF8pN38yG"
      },
      "source": [
        "### 4. Create the schema"
      ]
    },
    {
      "cell_type": "code",
      "execution_count": null,
      "metadata": {
        "id": "Cs0OZKLd38yH"
      },
      "outputs": [],
      "source": [
        "from sqlalchemy import Column, DateTime, ForeignKey, Integer, NVARCHAR, Numeric, Sequence\n",
        "from sqlalchemy.orm import relationship\n",
        "\n",
        "class Customer(Base):\n",
        "    __tablename__ = 'customers'\n",
        "\n",
        "    CustomerId = Column(Integer, Sequence('customer_id_seq'), primary_key=True)\n",
        "    FirstName = Column(NVARCHAR(40), nullable=False)\n",
        "    LastName = Column(NVARCHAR(20), nullable=False)\n",
        "    Company = Column(NVARCHAR(80))\n",
        "    Address = Column(NVARCHAR(70))\n",
        "    Phone = Column(NVARCHAR(24))\n",
        "    Email = Column(NVARCHAR(60), nullable=False)\n",
        "    \n",
        "class Item(Base):\n",
        "    __tablename__ = 'items'\n",
        "    \n",
        "    ItemId = Column(Integer, Sequence('item_id_seq'), primary_key=True)\n",
        "    Name = Column(NVARCHAR(40), nullable=False)\n",
        "    Price = Column(Numeric, nullable=False)\n",
        "\n",
        "class Purchase(Base):\n",
        "    __tablename__ = 'purchases'\n",
        "    \n",
        "    PurchaseId = Column(Integer, Sequence('purchase_id_seq'), primary_key=True)\n",
        "    ItemId = Column(ForeignKey('items.ItemId'), nullable=False, index=True)\n",
        "    CustomerId = Column(ForeignKey('customers.CustomerId'), nullable=False, index=True)\n",
        "    Date = Column(DateTime, nullable=False)\n",
        "    \n",
        "    item = relationship('Item')\n",
        "    customer = relationship('Customer')"
      ]
    },
    {
      "cell_type": "code",
      "execution_count": null,
      "metadata": {
        "id": "2uVGXyzc38yJ",
        "outputId": "00fbcc7e-8ea7-4acd-e236-cb67e2759fd9"
      },
      "outputs": [
        {
          "data": {
            "text/plain": [
              "'ItemId'"
            ]
          },
          "execution_count": 5,
          "metadata": {},
          "output_type": "execute_result"
        }
      ],
      "source": [
        "Purchase.ItemId.name"
      ]
    },
    {
      "cell_type": "markdown",
      "metadata": {
        "id": "S_6_4E_N38yK"
      },
      "source": [
        "### 5. Create tables in the database to conform with the schema"
      ]
    },
    {
      "cell_type": "code",
      "execution_count": null,
      "metadata": {
        "id": "ajqmfihJ38yK",
        "outputId": "93e27ca3-3d14-4945-cf64-cd6b5535cb6f"
      },
      "outputs": [
        {
          "name": "stdout",
          "output_type": "stream",
          "text": [
            "2019-07-15 19:23:48,336 INFO sqlalchemy.engine.base.Engine PRAGMA table_info(\"customers\")\n",
            "2019-07-15 19:23:48,337 INFO sqlalchemy.engine.base.Engine ()\n",
            "2019-07-15 19:23:48,338 INFO sqlalchemy.engine.base.Engine PRAGMA table_info(\"items\")\n",
            "2019-07-15 19:23:48,339 INFO sqlalchemy.engine.base.Engine ()\n",
            "2019-07-15 19:23:48,339 INFO sqlalchemy.engine.base.Engine PRAGMA table_info(\"purchases\")\n",
            "2019-07-15 19:23:48,340 INFO sqlalchemy.engine.base.Engine ()\n",
            "2019-07-15 19:23:48,341 INFO sqlalchemy.engine.base.Engine \n",
            "CREATE TABLE customers (\n",
            "\t\"CustomerId\" INTEGER NOT NULL, \n",
            "\t\"FirstName\" NVARCHAR(40) NOT NULL, \n",
            "\t\"LastName\" NVARCHAR(20) NOT NULL, \n",
            "\t\"Company\" NVARCHAR(80), \n",
            "\t\"Address\" NVARCHAR(70), \n",
            "\t\"Phone\" NVARCHAR(24), \n",
            "\t\"Email\" NVARCHAR(60) NOT NULL, \n",
            "\tPRIMARY KEY (\"CustomerId\")\n",
            ")\n",
            "\n",
            "\n",
            "2019-07-15 19:23:48,342 INFO sqlalchemy.engine.base.Engine ()\n",
            "2019-07-15 19:23:48,342 INFO sqlalchemy.engine.base.Engine COMMIT\n",
            "2019-07-15 19:23:48,343 INFO sqlalchemy.engine.base.Engine \n",
            "CREATE TABLE items (\n",
            "\t\"ItemId\" INTEGER NOT NULL, \n",
            "\t\"Name\" NVARCHAR(40) NOT NULL, \n",
            "\t\"Price\" NUMERIC NOT NULL, \n",
            "\tPRIMARY KEY (\"ItemId\")\n",
            ")\n",
            "\n",
            "\n",
            "2019-07-15 19:23:48,344 INFO sqlalchemy.engine.base.Engine ()\n",
            "2019-07-15 19:23:48,344 INFO sqlalchemy.engine.base.Engine COMMIT\n",
            "2019-07-15 19:23:48,345 INFO sqlalchemy.engine.base.Engine \n",
            "CREATE TABLE purchases (\n",
            "\t\"PurchaseId\" INTEGER NOT NULL, \n",
            "\t\"ItemId\" INTEGER NOT NULL, \n",
            "\t\"CustomerId\" INTEGER NOT NULL, \n",
            "\t\"Date\" DATETIME NOT NULL, \n",
            "\tPRIMARY KEY (\"PurchaseId\"), \n",
            "\tFOREIGN KEY(\"ItemId\") REFERENCES items (\"ItemId\"), \n",
            "\tFOREIGN KEY(\"CustomerId\") REFERENCES customers (\"CustomerId\")\n",
            ")\n",
            "\n",
            "\n",
            "2019-07-15 19:23:48,346 INFO sqlalchemy.engine.base.Engine ()\n",
            "2019-07-15 19:23:48,346 INFO sqlalchemy.engine.base.Engine COMMIT\n",
            "2019-07-15 19:23:48,347 INFO sqlalchemy.engine.base.Engine CREATE INDEX \"ix_purchases_CustomerId\" ON purchases (\"CustomerId\")\n",
            "2019-07-15 19:23:48,348 INFO sqlalchemy.engine.base.Engine ()\n",
            "2019-07-15 19:23:48,349 INFO sqlalchemy.engine.base.Engine COMMIT\n",
            "2019-07-15 19:23:48,349 INFO sqlalchemy.engine.base.Engine CREATE INDEX \"ix_purchases_ItemId\" ON purchases (\"ItemId\")\n",
            "2019-07-15 19:23:48,350 INFO sqlalchemy.engine.base.Engine ()\n",
            "2019-07-15 19:23:48,351 INFO sqlalchemy.engine.base.Engine COMMIT\n"
          ]
        }
      ],
      "source": [
        "Base.metadata.create_all(engine)"
      ]
    },
    {
      "cell_type": "markdown",
      "metadata": {
        "id": "yFrYe9k538yL"
      },
      "source": [
        "### 6. Create a customer"
      ]
    },
    {
      "cell_type": "code",
      "execution_count": null,
      "metadata": {
        "id": "KVaT9vjI38yM",
        "outputId": "dbf79b27-1b31-4e01-edec-089bb22fc09a"
      },
      "outputs": [
        {
          "name": "stdout",
          "output_type": "stream",
          "text": [
            "2019-07-15 19:23:48,361 INFO sqlalchemy.engine.base.Engine BEGIN (implicit)\n",
            "2019-07-15 19:23:48,363 INFO sqlalchemy.engine.base.Engine INSERT INTO customers (\"FirstName\", \"LastName\", \"Company\", \"Address\", \"Phone\", \"Email\") VALUES (?, ?, ?, ?, ?, ?)\n",
            "2019-07-15 19:23:48,364 INFO sqlalchemy.engine.base.Engine ('Moshe', 'Cohen', None, 'Alenbi 99, Tel Aviv', '053-5556789', 'moshe@cohen.com')\n",
            "2019-07-15 19:23:48,365 INFO sqlalchemy.engine.base.Engine COMMIT\n"
          ]
        }
      ],
      "source": [
        "moshe = Customer(\n",
        "    FirstName='Moshe', \n",
        "    LastName='Cohen', \n",
        "    Address='Alenbi 99, Tel Aviv', \n",
        "    Phone=\"053-5556789\", \n",
        "    Email='moshe@cohen.com')\n",
        "\n",
        "session.add(moshe)\n",
        "session.commit()"
      ]
    },
    {
      "cell_type": "markdown",
      "metadata": {
        "id": "EFQdd67U38yN"
      },
      "source": [
        "### 7. run queries"
      ]
    },
    {
      "cell_type": "markdown",
      "metadata": {
        "id": "rtI1VutH38yN"
      },
      "source": [
        "#### Using SQLAlchemy expression language"
      ]
    },
    {
      "cell_type": "code",
      "execution_count": null,
      "metadata": {
        "id": "uSAxpPVx38yO",
        "outputId": "630c33cd-4623-4b16-bc92-f110f4ebf49a"
      },
      "outputs": [
        {
          "name": "stdout",
          "output_type": "stream",
          "text": [
            "2019-07-15 19:23:48,373 INFO sqlalchemy.engine.base.Engine SELECT customers.\"FirstName\", customers.\"Email\" \n",
            "FROM customers\n",
            "2019-07-15 19:23:48,374 INFO sqlalchemy.engine.base.Engine ()\n",
            "\n",
            "('Moshe', 'moshe@cohen.com')\n",
            "\n",
            "<class 'sqlalchemy.engine.result.RowProxy'>\n"
          ]
        }
      ],
      "source": [
        "from sqlalchemy import select \n",
        "\n",
        "customers_query = select([Customer.FirstName, Customer.Email])\n",
        "results = conn.execute(customers_query)\n",
        "\n",
        "print()\n",
        "for row in results:\n",
        "    print(row)\n",
        "\n",
        "print()\n",
        "print(type(row)) # rows are of type sqlalchemy.engine.result.RowProxy"
      ]
    },
    {
      "cell_type": "markdown",
      "metadata": {
        "id": "VCGaOrxL38yO"
      },
      "source": [
        "> Our handy `display_results` function uses `pandas` library to display the results as a table"
      ]
    },
    {
      "cell_type": "code",
      "execution_count": null,
      "metadata": {
        "id": "qpdRdJi438yP",
        "outputId": "0501c50c-60ce-453b-fb96-e612053db990"
      },
      "outputs": [
        {
          "name": "stdout",
          "output_type": "stream",
          "text": [
            "2019-07-15 19:23:48,382 INFO sqlalchemy.engine.base.Engine SELECT customers.\"FirstName\", customers.\"Email\" \n",
            "FROM customers\n",
            "2019-07-15 19:23:48,383 INFO sqlalchemy.engine.base.Engine ()\n"
          ]
        },
        {
          "data": {
            "text/html": [
              "<div>\n",
              "<style scoped>\n",
              "    .dataframe tbody tr th:only-of-type {\n",
              "        vertical-align: middle;\n",
              "    }\n",
              "\n",
              "    .dataframe tbody tr th {\n",
              "        vertical-align: top;\n",
              "    }\n",
              "\n",
              "    .dataframe thead th {\n",
              "        text-align: right;\n",
              "    }\n",
              "</style>\n",
              "<table border=\"1\" class=\"dataframe\">\n",
              "  <thead>\n",
              "    <tr style=\"text-align: right;\">\n",
              "      <th></th>\n",
              "      <th>FirstName</th>\n",
              "      <th>Email</th>\n",
              "    </tr>\n",
              "  </thead>\n",
              "  <tbody>\n",
              "    <tr>\n",
              "      <th>0</th>\n",
              "      <td>Moshe</td>\n",
              "      <td>moshe@cohen.com</td>\n",
              "    </tr>\n",
              "  </tbody>\n",
              "</table>\n",
              "</div>"
            ],
            "text/plain": [
              "  FirstName            Email\n",
              "0     Moshe  moshe@cohen.com"
            ]
          },
          "metadata": {},
          "output_type": "display_data"
        }
      ],
      "source": [
        "display_results(customers_query)"
      ]
    },
    {
      "cell_type": "markdown",
      "metadata": {
        "id": "_vA4QTha38yP"
      },
      "source": [
        "#### Using SQLAlchemy ORM Object Relation Manager"
      ]
    },
    {
      "cell_type": "code",
      "execution_count": null,
      "metadata": {
        "scrolled": true,
        "id": "Tx0A1ouk38yP",
        "outputId": "50a4dd1d-39ce-4ed4-aaad-07a52c33cb0f"
      },
      "outputs": [
        {
          "name": "stdout",
          "output_type": "stream",
          "text": [
            "\n",
            "2019-07-15 19:23:48,399 INFO sqlalchemy.engine.base.Engine BEGIN (implicit)\n",
            "2019-07-15 19:23:48,401 INFO sqlalchemy.engine.base.Engine SELECT customers.\"CustomerId\" AS \"customers_CustomerId\", customers.\"FirstName\" AS \"customers_FirstName\", customers.\"LastName\" AS \"customers_LastName\", customers.\"Company\" AS \"customers_Company\", customers.\"Address\" AS \"customers_Address\", customers.\"Phone\" AS \"customers_Phone\", customers.\"Email\" AS \"customers_Email\" \n",
            "FROM customers\n",
            "2019-07-15 19:23:48,402 INFO sqlalchemy.engine.base.Engine ()\n",
            "Customer(CustomerId=1, FirstName='Moshe', LastName='Cohen', Company=None, Address='Alenbi 99, Tel Aviv', Phone='053-5556789', Email='moshe@cohen.com')\n",
            "\n",
            "<class '__main__.Customer'>\n"
          ]
        }
      ],
      "source": [
        "results = session.query(Customer)\n",
        "\n",
        "print()\n",
        "for customer in results:\n",
        "    print(customer)\n",
        "    \n",
        "print()\n",
        "print(type(customer))"
      ]
    },
    {
      "cell_type": "markdown",
      "metadata": {
        "id": "knsv9dIO38yQ"
      },
      "source": [
        "## Reflect an existing database\n",
        "\n",
        "When we have an existing database, and would like to start accessing this database using SQLAlchemy, we need to have classes that represent the database. \n",
        "\n",
        "Being good lazy programmers, we often don't want to write these classes by hand, and would like a helpful start.\n",
        "We're going to show how to create such classes from an existing database.\n",
        "\n",
        "we will do it in two methods\n",
        "1. use the automap class in SQLAlchemy to create dynamic classes (without source) for the db\n",
        "2. use the `sqlacodegen` module [1] to generate source code for classes\n",
        "\n",
        "[1]: https://pypi.org/project/sqlacodegen/\n",
        "\n",
        "### Chinook sample DB\n",
        "Let's download a sample database called [Chinook](http://www.sqlitetutorial.net/sqlite-sample-database/) \n",
        "![Chinook](http://www.sqlitetutorial.net/wp-content/uploads/2015/11/sqlite-sample-database-color.jpg)\n",
        "\n",
        "there's a file in the `notebooks` directory called `download_chinook.py` with simple code to download this zip to the current directory. "
      ]
    },
    {
      "cell_type": "markdown",
      "metadata": {
        "id": "vDO3vKEF38yR"
      },
      "source": [
        "> lets run `download_chinook.download` now"
      ]
    },
    {
      "cell_type": "code",
      "execution_count": null,
      "metadata": {
        "id": "A9Mv0kNk38yR",
        "outputId": "948154aa-5808-4cdc-8f5e-9215a078877d"
      },
      "outputs": [
        {
          "name": "stdout",
          "output_type": "stream",
          "text": [
            "ready: C:\\Users\\CP\\Downloads\\learn-advanced-python-master\\notebooks\\chinook.db\n"
          ]
        }
      ],
      "source": [
        "# run this code to get the chinook database\n",
        "import download_chinook\n",
        "download_chinook.download()"
      ]
    },
    {
      "cell_type": "markdown",
      "metadata": {
        "id": "YwOuE0zp38yS"
      },
      "source": [
        "> Now lets connect to the database and create an `engine` variable"
      ]
    },
    {
      "cell_type": "code",
      "execution_count": null,
      "metadata": {
        "id": "fwPnl2Xn38yS"
      },
      "outputs": [],
      "source": [
        "import sqlalchemy\n",
        "from sqlalchemy import create_engine\n",
        "engine = create_engine('sqlite:///chinook.db')"
      ]
    },
    {
      "cell_type": "markdown",
      "metadata": {
        "id": "75F0pM2338yT"
      },
      "source": [
        "> lets get the list of table names from the database"
      ]
    },
    {
      "cell_type": "code",
      "execution_count": null,
      "metadata": {
        "id": "TEo-GiOt38yT",
        "outputId": "d3e91cde-9c1c-4dda-91d4-3937832facff"
      },
      "outputs": [
        {
          "data": {
            "text/plain": [
              "['albums',\n",
              " 'artists',\n",
              " 'customers',\n",
              " 'employees',\n",
              " 'genres',\n",
              " 'invoice_items',\n",
              " 'invoices',\n",
              " 'media_types',\n",
              " 'playlist_track',\n",
              " 'playlists',\n",
              " 'sqlite_sequence',\n",
              " 'sqlite_stat1',\n",
              " 'tracks']"
            ]
          },
          "execution_count": 13,
          "metadata": {},
          "output_type": "execute_result"
        }
      ],
      "source": [
        "engine.table_names()"
      ]
    },
    {
      "cell_type": "markdown",
      "metadata": {
        "id": "__Z8jspH38yT"
      },
      "source": [
        "### using automap to refelect a db\n",
        "\n",
        "We use the `automap` extension to __dynamically__ create classes for each table __at runtime__. \n",
        "\n",
        "- __advantage__: automap is faily easy to use, and it comes bundled in SQLAlchemy without a need for installing additional modules\n",
        "- __disadvantage__: There is no way to see the _code_ for these automap classes. we need to use the classes without seeing the code for it"
      ]
    },
    {
      "cell_type": "markdown",
      "metadata": {
        "id": "8doFqQxS38yU"
      },
      "source": [
        "\n",
        "> first, lets define a helper function called `automap_database()` that generates classes for us"
      ]
    },
    {
      "cell_type": "code",
      "execution_count": null,
      "metadata": {
        "id": "mMejIgrI38yV"
      },
      "outputs": [],
      "source": [
        "def automap_database(engine):\n",
        "    ### useful: extract classes from the chinook database\n",
        "    metadata = sqlalchemy.MetaData()\n",
        "    metadata.reflect(engine)\n",
        "\n",
        "    ## we need to do this once\n",
        "    from sqlalchemy.ext.automap import automap_base\n",
        "\n",
        "    # produce a set of mappings from this MetaData.\n",
        "    Base = automap_base(metadata=metadata)\n",
        "\n",
        "    # calling prepare() just sets up mapped classes and relationships.\n",
        "    Base.prepare()\n",
        "    return Base"
      ]
    },
    {
      "cell_type": "markdown",
      "metadata": {
        "id": "V1f33R5k38yV"
      },
      "source": [
        "> next, lets use the `automap_database()` function and see which classes were generated"
      ]
    },
    {
      "cell_type": "code",
      "execution_count": null,
      "metadata": {
        "id": "Tz6-BUag38yW",
        "outputId": "4b1e2e5f-e92d-405b-fcd9-ceee615b0916"
      },
      "outputs": [
        {
          "name": "stdout",
          "output_type": "stream",
          "text": [
            "Generated the following classes:\n",
            "\t albums, artists, customers, employees, genres, invoice_items, invoices, tracks, media_types, playlists\n"
          ]
        }
      ],
      "source": [
        "# create dynamic classes for every table using automap \n",
        "AutoMapBase = automap_database(engine)\n",
        "\n",
        "# which classes were generated?\n",
        "print('Generated the following classes:')\n",
        "print('\\t', ', '.join(AutoMapBase.classes.keys()))\n",
        "\n",
        "# Let's prepare an ORM session so we can query the database based on these classes\n",
        "from sqlalchemy.orm import sessionmaker\n",
        "Session = sessionmaker(bind=engine)\n",
        "session = Session()"
      ]
    },
    {
      "cell_type": "markdown",
      "metadata": {
        "id": "TjNu_QWO38yW"
      },
      "source": [
        "> Lastly, lets use one of these classes, see what columns it has and use it to query the database "
      ]
    },
    {
      "cell_type": "code",
      "execution_count": null,
      "metadata": {
        "scrolled": true,
        "id": "xhotJ_cg38yW",
        "outputId": "88ad42ef-57aa-468f-a3d5-d6b3120f68ce"
      },
      "outputs": [
        {
          "name": "stdout",
          "output_type": "stream",
          "text": [
            "columns for Album class:\n",
            "\t ['albums.AlbumId', 'albums.Title', 'albums.ArtistId']\n",
            "\n",
            "first album: <class 'sqlalchemy.ext.automap.albums'>\n",
            "\t 1 For Those About To Rock We Salute You 1\n"
          ]
        }
      ],
      "source": [
        "# lets get the Album class for the albums table\n",
        "Album = AutoMapBase.classes['albums']\n",
        "\n",
        "# what columns are available in this class?\n",
        "print('columns for Album class:')\n",
        "print('\\t', Album.__table__.columns) # 'albums.AlbumId', 'albums.Title', 'albums.ArtistId'\n",
        "\n",
        "# lets get the first album and print it out\n",
        "first_album = session.query(Album).first()\n",
        "print()\n",
        "print('first album:', type(first_album))\n",
        "print('\\t', first_album.AlbumId, first_album.Title, first_album.ArtistId)"
      ]
    },
    {
      "cell_type": "markdown",
      "metadata": {
        "id": "jxUTA0nv38yX"
      },
      "source": [
        "### using sqlacodegen to generate classes with source code\n",
        "\n",
        "> first, we need to install the `sqlacodegen` module"
      ]
    },
    {
      "cell_type": "code",
      "execution_count": null,
      "metadata": {
        "id": "_JKMW3H738yX",
        "outputId": "7d87ba76-3e80-4928-a5bd-c5d0033e8c3c"
      },
      "outputs": [
        {
          "name": "stdout",
          "output_type": "stream",
          "text": [
            "Requirement already satisfied: sqlacodegen in c:\\users\\cp\\appdata\\local\\programs\\python\\python37-32\\lib\\site-packages (2.0.1)\n",
            "Requirement already satisfied: inflect>=0.2.0 in c:\\users\\cp\\appdata\\local\\programs\\python\\python37-32\\lib\\site-packages (from sqlacodegen) (2.1.0)\n",
            "Requirement already satisfied: SQLAlchemy>=0.8.0 in c:\\users\\cp\\appdata\\local\\programs\\python\\python37-32\\lib\\site-packages (from sqlacodegen) (1.3.5)\n",
            "Note: you may need to restart the kernel to use updated packages.\n"
          ]
        }
      ],
      "source": [
        "pip install sqlacodegen"
      ]
    },
    {
      "cell_type": "markdown",
      "metadata": {
        "id": "PCSXOqoh38yY"
      },
      "source": [
        "> now, lets run it"
      ]
    },
    {
      "cell_type": "code",
      "execution_count": null,
      "metadata": {
        "id": "Op5jwHIf38yY",
        "outputId": "71f9d23a-fe05-4152-efb8-960f06be6d8d"
      },
      "outputs": [
        {
          "name": "stdout",
          "output_type": "stream",
          "text": [
            "# coding: utf-8\n",
            "from sqlalchemy import Column, DateTime, ForeignKey, Integer, NVARCHAR, Numeric\n",
            "from sqlalchemy.orm import relationship\n",
            "from sqlalchemy.ext.declarative import declarative_base\n",
            "\n",
            "Base = declarative_base()\n",
            "metadata = Base.metadata\n",
            "\n",
            "\n",
            "class Artist(Base):\n",
            "    __tablename__ = 'artists'\n",
            "\n",
            "    ArtistId = Column(Integer, primary_key=True)\n",
            "    Name = Column(NVARCHAR(120))\n",
            "\n",
            "\n",
            "class Employee(Base):\n",
            "    __tablename__ = 'employees'\n",
            "\n",
            "    EmployeeId = Column(Integer, primary_key=True)\n",
            "    LastName = Column(NVARCHAR(20), nullable=False)\n",
            "    FirstName = Column(NVARCHAR(20), nullable=False)\n",
            "    Title = Column(NVARCHAR(30))\n",
            "    ReportsTo = Column(ForeignKey('employees.EmployeeId'), index=True)\n",
            "    BirthDate = Column(DateTime)\n",
            "    HireDate = Column(DateTime)\n",
            "    Address = Column(NVARCHAR(70))\n",
            "    City = Column(NVARCHAR(40))\n",
            "    State = Column(NVARCHAR(40))\n",
            "    Country = Column(NVARCHAR(40))\n",
            "    PostalCode = Column(NVARCHAR(10))\n",
            "    Phone = Column(NVARCHAR(24))\n",
            "    Fax = Column(NVARCHAR(24))\n",
            "    Email = Column(NVARCHAR(60))\n",
            "\n",
            "    parent = relationship('Employee', remote_side=[EmployeeId])\n",
            "\n",
            "\n",
            "class Genre(Base):\n",
            "    __tablename__ = 'genres'\n",
            "\n",
            "    GenreId = Column(Integer, primary_key=True)\n",
            "    Name = Column(NVARCHAR(120))\n",
            "\n",
            "\n",
            "class MediaType(Base):\n",
            "    __tablename__ = 'media_types'\n",
            "\n",
            "    MediaTypeId = Column(Integer, primary_key=True)\n",
            "    Name = Column(NVARCHAR(120))\n",
            "\n",
            "\n",
            "class Album(Base):\n",
            "    __tablename__ = 'albums'\n",
            "\n",
            "    AlbumId = Column(Integer, primary_key=True)\n",
            "    Title = Column(NVARCHAR(160), nullable=False)\n",
            "    ArtistId = Column(ForeignKey('artists.ArtistId'), nullable=False, index=True)\n",
            "\n",
            "    artist = relationship('Artist')\n",
            "\n",
            "\n",
            "class Customer(Base):\n",
            "    __tablename__ = 'customers'\n",
            "\n",
            "    CustomerId = Column(Integer, primary_key=True)\n",
            "    FirstName = Column(NVARCHAR(40), nullable=False)\n",
            "    LastName = Column(NVARCHAR(20), nullable=False)\n",
            "    Company = Column(NVARCHAR(80))\n",
            "    Address = Column(NVARCHAR(70))\n",
            "    City = Column(NVARCHAR(40))\n",
            "    State = Column(NVARCHAR(40))\n",
            "    Country = Column(NVARCHAR(40))\n",
            "    PostalCode = Column(NVARCHAR(10))\n",
            "    Phone = Column(NVARCHAR(24))\n",
            "    Fax = Column(NVARCHAR(24))\n",
            "    Email = Column(NVARCHAR(60), nullable=False)\n",
            "    SupportRepId = Column(ForeignKey('employees.EmployeeId'), index=True)\n",
            "\n",
            "    employee = relationship('Employee')\n",
            "\n",
            "\n",
            "class Invoice(Base):\n",
            "    __tablename__ = 'invoices'\n",
            "\n",
            "    InvoiceId = Column(Integer, primary_key=True)\n",
            "    CustomerId = Column(ForeignKey('customers.CustomerId'), nullable=False, index=True)\n",
            "    InvoiceDate = Column(DateTime, nullable=False)\n",
            "    BillingAddress = Column(NVARCHAR(70))\n",
            "    BillingCity = Column(NVARCHAR(40))\n",
            "    BillingState = Column(NVARCHAR(40))\n",
            "    BillingCountry = Column(NVARCHAR(40))\n",
            "    BillingPostalCode = Column(NVARCHAR(10))\n",
            "    Total = Column(Numeric(10, 2), nullable=False)\n",
            "\n",
            "    customer = relationship('Customer')\n",
            "\n",
            "\n",
            "class Track(Base):\n",
            "    __tablename__ = 'tracks'\n",
            "\n",
            "    TrackId = Column(Integer, primary_key=True)\n",
            "    Name = Column(NVARCHAR(200), nullable=False)\n",
            "    AlbumId = Column(ForeignKey('albums.AlbumId'), index=True)\n",
            "    MediaTypeId = Column(ForeignKey('media_types.MediaTypeId'), nullable=False, index=True)\n",
            "    GenreId = Column(ForeignKey('genres.GenreId'), index=True)\n",
            "    Composer = Column(NVARCHAR(220))\n",
            "    Milliseconds = Column(Integer, nullable=False)\n",
            "    Bytes = Column(Integer)\n",
            "    UnitPrice = Column(Numeric(10, 2), nullable=False)\n",
            "\n",
            "    album = relationship('Album')\n",
            "    genre = relationship('Genre')\n",
            "    media_type = relationship('MediaType')\n",
            "\n",
            "\n",
            "class InvoiceItem(Base):\n",
            "    __tablename__ = 'invoice_items'\n",
            "\n",
            "    InvoiceLineId = Column(Integer, primary_key=True)\n",
            "    InvoiceId = Column(ForeignKey('invoices.InvoiceId'), nullable=False, index=True)\n",
            "    TrackId = Column(ForeignKey('tracks.TrackId'), nullable=False, index=True)\n",
            "    UnitPrice = Column(Numeric(10, 2), nullable=False)\n",
            "    Quantity = Column(Integer, nullable=False)\n",
            "\n",
            "    invoice = relationship('Invoice')\n",
            "    track = relationship('Track')\n"
          ]
        }
      ],
      "source": [
        "!sqlacodegen sqlite:///chinook.db --tables albums,artists,customers,employees,genres,invoice_items,invoices,tracks"
      ]
    },
    {
      "cell_type": "markdown",
      "metadata": {
        "id": "70grBNRh38yZ"
      },
      "source": [
        "> We can now copy-paste the generated source for these classes into our code so we can start using it   "
      ]
    },
    {
      "cell_type": "code",
      "execution_count": null,
      "metadata": {
        "id": "ywCpz3cn38yZ"
      },
      "outputs": [],
      "source": [
        "from sqlalchemy import Column, DateTime, ForeignKey, Integer, NVARCHAR, Numeric\n",
        "from sqlalchemy.orm import relationship\n",
        "from sqlalchemy.ext.declarative import declarative_base\n",
        "\n",
        "Base = declarative_base()\n",
        "metadata = Base.metadata\n",
        "\n",
        "class Artist(Base):\n",
        "    __tablename__ = 'artists'\n",
        "\n",
        "    ArtistId = Column(Integer, primary_key=True)\n",
        "    Name = Column(NVARCHAR(120))\n",
        "\n",
        "\n",
        "class Employee(Base):\n",
        "    __tablename__ = 'employees'\n",
        "\n",
        "    EmployeeId = Column(Integer, primary_key=True)\n",
        "    LastName = Column(NVARCHAR(20), nullable=False)\n",
        "    FirstName = Column(NVARCHAR(20), nullable=False)\n",
        "    Title = Column(NVARCHAR(30))\n",
        "    ReportsTo = Column(ForeignKey('employees.EmployeeId'), index=True)\n",
        "    BirthDate = Column(DateTime)\n",
        "    HireDate = Column(DateTime)\n",
        "    Address = Column(NVARCHAR(70))\n",
        "    City = Column(NVARCHAR(40))\n",
        "    State = Column(NVARCHAR(40))\n",
        "    Country = Column(NVARCHAR(40))\n",
        "    PostalCode = Column(NVARCHAR(10))\n",
        "    Phone = Column(NVARCHAR(24))\n",
        "    Fax = Column(NVARCHAR(24))\n",
        "    Email = Column(NVARCHAR(60))\n",
        "\n",
        "    parent = relationship('Employee', remote_side=[EmployeeId])\n",
        "\n",
        "\n",
        "class Genre(Base):\n",
        "    __tablename__ = 'genres'\n",
        "\n",
        "    GenreId = Column(Integer, primary_key=True)\n",
        "    Name = Column(NVARCHAR(120))\n",
        "\n",
        "\n",
        "class MediaType(Base):\n",
        "    __tablename__ = 'media_types'\n",
        "\n",
        "    MediaTypeId = Column(Integer, primary_key=True)\n",
        "    Name = Column(NVARCHAR(120))\n",
        "\n",
        "\n",
        "class Album(Base):\n",
        "    __tablename__ = 'albums'\n",
        "\n",
        "    AlbumId = Column(Integer, primary_key=True)\n",
        "    Title = Column(NVARCHAR(160), nullable=False)\n",
        "    ArtistId = Column(ForeignKey('artists.ArtistId'), nullable=False, index=True)\n",
        "\n",
        "    artist = relationship('Artist')\n",
        "\n",
        "\n",
        "class Customer(Base):\n",
        "    __tablename__ = 'customers'\n",
        "\n",
        "    CustomerId = Column(Integer, primary_key=True)\n",
        "    FirstName = Column(NVARCHAR(40), nullable=False)\n",
        "    LastName = Column(NVARCHAR(20), nullable=False)\n",
        "    Company = Column(NVARCHAR(80))\n",
        "    Address = Column(NVARCHAR(70))\n",
        "    City = Column(NVARCHAR(40))\n",
        "    State = Column(NVARCHAR(40))\n",
        "    Country = Column(NVARCHAR(40))\n",
        "    PostalCode = Column(NVARCHAR(10))\n",
        "    Phone = Column(NVARCHAR(24))\n",
        "    Fax = Column(NVARCHAR(24))\n",
        "    Email = Column(NVARCHAR(60), nullable=False)\n",
        "    SupportRepId = Column(ForeignKey('employees.EmployeeId'), index=True)\n",
        "\n",
        "    employee = relationship('Employee')\n",
        "\n",
        "\n",
        "class Invoice(Base):\n",
        "    __tablename__ = 'invoices'\n",
        "\n",
        "    InvoiceId = Column(Integer, primary_key=True)\n",
        "    CustomerId = Column(ForeignKey('customers.CustomerId'), nullable=False, index=True)\n",
        "    InvoiceDate = Column(DateTime, nullable=False)\n",
        "    BillingAddress = Column(NVARCHAR(70))\n",
        "    BillingCity = Column(NVARCHAR(40))\n",
        "    BillingState = Column(NVARCHAR(40))\n",
        "    BillingCountry = Column(NVARCHAR(40))\n",
        "    BillingPostalCode = Column(NVARCHAR(10))\n",
        "    Total = Column(Numeric(10, 2), nullable=False)\n",
        "\n",
        "    customer = relationship('Customer')\n",
        "\n",
        "\n",
        "class Track(Base):\n",
        "    __tablename__ = 'tracks'\n",
        "\n",
        "    TrackId = Column(Integer, primary_key=True)\n",
        "    Name = Column(NVARCHAR(200), nullable=False)\n",
        "    AlbumId = Column(ForeignKey('albums.AlbumId'), index=True)\n",
        "    MediaTypeId = Column(ForeignKey('media_types.MediaTypeId'), nullable=False, index=True)\n",
        "    GenreId = Column(ForeignKey('genres.GenreId'), index=True)\n",
        "    Composer = Column(NVARCHAR(220))\n",
        "    Milliseconds = Column(Integer, nullable=False)\n",
        "    Bytes = Column(Integer)\n",
        "    UnitPrice = Column(Numeric(10, 2), nullable=False)\n",
        "\n",
        "    album = relationship('Album')\n",
        "    genre = relationship('Genre')\n",
        "    media_type = relationship('MediaType')\n",
        "\n",
        "\n",
        "class InvoiceItem(Base):\n",
        "    __tablename__ = 'invoice_items'\n",
        "\n",
        "    InvoiceLineId = Column(Integer, primary_key=True)\n",
        "    InvoiceId = Column(ForeignKey('invoices.InvoiceId'), nullable=False, index=True)\n",
        "    TrackId = Column(ForeignKey('tracks.TrackId'), nullable=False, index=True)\n",
        "    UnitPrice = Column(Numeric(10, 2), nullable=False)\n",
        "    Quantity = Column(Integer, nullable=False)\n",
        "\n",
        "    invoice = relationship('Invoice')\n",
        "    track = relationship('Track')"
      ]
    },
    {
      "cell_type": "markdown",
      "metadata": {
        "id": "YlxjR6JL38ya"
      },
      "source": [
        "> lets create a new engine and new orm session to use with this metadata (it is different from the automap metadata)"
      ]
    },
    {
      "cell_type": "code",
      "execution_count": null,
      "metadata": {
        "id": "BmPsdnrA38ya"
      },
      "outputs": [],
      "source": [
        "from sqlalchemy import create_engine\n",
        "engine = create_engine('sqlite:///chinook.db')\n",
        "conn = engine.connect()\n",
        "metadata.reflect(engine)\n",
        "\n",
        "from sqlalchemy.orm import sessionmaker\n",
        "Session = sessionmaker(bind=engine)\n",
        "session = Session()"
      ]
    },
    {
      "cell_type": "markdown",
      "metadata": {
        "id": "o0-VsBJS38ya"
      },
      "source": [
        "> lets make a simple query"
      ]
    },
    {
      "cell_type": "code",
      "execution_count": null,
      "metadata": {
        "id": "HQJDteoq38yb",
        "outputId": "ebe518a0-f64d-40ce-ad9f-e3548a64af9e"
      },
      "outputs": [
        {
          "name": "stdout",
          "output_type": "stream",
          "text": [
            "<class '__main__.Track'>\n",
            "Song: For Those About To Rock (We Salute You) | Album: For Those About To Rock We Salute You | Artist: AC/DC\n"
          ]
        },
        {
          "name": "stderr",
          "output_type": "stream",
          "text": [
            "c:\\users\\cp\\appdata\\local\\programs\\python\\python37-32\\lib\\site-packages\\sqlalchemy\\sql\\sqltypes.py:665: SAWarning: Dialect sqlite+pysqlite does *not* support Decimal objects natively, and SQLAlchemy must convert from floating point - rounding errors and other issues may occur. Please consider storing Decimal numbers as strings or integers on this platform for lossless storage.\n",
            "  \"storage.\" % (dialect.name, dialect.driver)\n"
          ]
        }
      ],
      "source": [
        "# lets get the first album and print it out\n",
        "first_track = session.query(Track).first()\n",
        "print(type(first_track))\n",
        "print('Song:', first_track.Name, '| Album:', first_track.album.Title, '| Artist:', first_track.album.artist.Name)"
      ]
    },
    {
      "cell_type": "markdown",
      "metadata": {
        "id": "f3VA58ov38yb"
      },
      "source": [
        "# Further reading\n",
        "- [Toward Data Science' SQLAlchemy tutorial](https://towardsdatascience.com/sqlalchemy-python-tutorial-79a577141a91)\n",
        "- [SQLAlchemy Object Relational Tutorial](https://docs.sqlalchemy.org/en/13/orm/tutorial.html)\n",
        "- [SQLAlchemy Expression Language Tutorial](https://docs.sqlalchemy.org/en/13/core/tutorial.html)\n",
        "- [SQLAlchemy ORM Tutorial for Python Developers](https://auth0.com/blog/sqlalchemy-orm-tutorial-for-python-developers/)\n",
        "- [sqlalchemy-explore](https://pypi.org/project/sqlalchemy-explore/)\n",
        "- Sample databases\n",
        "  - https://github.com/jpwhite3/northwind-SQLite3\n",
        "  - https://github.com/arjunchndr/Analyzing-Chinook-Database-using-SQL-and-Python"
      ]
    },
    {
      "cell_type": "code",
      "execution_count": null,
      "metadata": {
        "id": "U_xlgCW838yc"
      },
      "outputs": [],
      "source": [
        ""
      ]
    }
  ],
  "metadata": {
    "kernelspec": {
      "display_name": "Python 3",
      "language": "python",
      "name": "python3"
    },
    "language_info": {
      "codemirror_mode": {
        "name": "ipython",
        "version": 3
      },
      "file_extension": ".py",
      "mimetype": "text/x-python",
      "name": "python",
      "nbconvert_exporter": "python",
      "pygments_lexer": "ipython3",
      "version": "3.7.3"
    },
    "colab": {
      "name": "02_sqlalchemy_orm.ipynb",
      "provenance": []
    }
  },
  "nbformat": 4,
  "nbformat_minor": 0
}